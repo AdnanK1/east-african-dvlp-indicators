{
 "cells": [
  {
   "cell_type": "markdown",
   "metadata": {},
   "source": [
    "## Simple Exponential Smoothing"
   ]
  },
  {
   "cell_type": "code",
   "execution_count": null,
   "metadata": {},
   "outputs": [],
   "source": [
    "import pandas as pd\n",
    "import statsmodels.api as sm\n",
    "from sklearn.metrics import mean_squared_error\n",
    "\n",
    "def ses_model(country):\n",
    "    data = split_data(country)\n",
    "    training_data = data[1]\n",
    "    testing_data = data[0]\n",
    "    country_results = {}\n",
    "    \n",
    "    for indicator in training_data.keys():\n",
    "        model = sm.tsa.SimpleExpSmoothing(training_data[indicator]['Percentage Diff'])\n",
    "        results = model.fit()\n",
    "\n",
    "        # Making predictions\n",
    "        testing_data_forecast = results.forecast(steps=len(testing_data[indicator]))\n",
    "        training_data_forecast = results.forecast(steps=len(training_data[indicator]))\n",
    "\n",
    "        # Evaluate\n",
    "        train_rmse = mean_squared_error(training_data[indicator]['Percentage Diff'], training_data_forecast, squared=False)\n",
    "        test_rmse = mean_squared_error(testing_data[indicator]['Percentage Diff'], testing_data_forecast, squared=False)\n",
    "\n",
    "        country_results[indicator] = {\n",
    "            \"Train RMSE\": train_rmse,\n",
    "            \"Test RMSE\": test_rmse\n",
    "        }\n",
    "    \n",
    "    return country_results  # Return the dictionary of results for all indicators\n",
    "\n",
    "# Initialize an empty dictionary to store results for different countries\n",
    "results = {}\n",
    "\n",
    "# Loop through your countries here\n",
    "for country in countries:\n",
    "    country_results = ses_model(country)\n",
    "    results[country] = country_results\n",
    "\n",
    "# Print the results for all countries and indicators\n",
    "for country, country_result in results.items():\n",
    "    print(country)\n",
    "    for indicator, rmse in country_result.items():\n",
    "        print(f\"{indicator}:\")\n",
    "        print(f\"Train RMSE: {rmse['Train RMSE']:.4f}\")\n",
    "        print(f\"Test RMSE: {rmse['Test RMSE']:.4f}\")\n",
    "        print()\n"
   ]
  },
  {
   "cell_type": "code",
   "execution_count": null,
   "metadata": {},
   "outputs": [],
   "source": [
    "# plot Tanzania data for all indicators\n",
    "def plot_tanzania_data_for_all_indicators():\n",
    "    tanzania_indicators = [\n",
    "        'Current health expenditure (% of GDP)',\n",
    "        'Domestic general government health expenditure (% of current health expenditure)',\n",
    "        'Domestic general government health expenditure (% of GDP)',\n",
    "        'Domestic general government health expenditure (% of general government expenditure)',\n",
    "        'Domestic private health expenditure (% of current health expenditure)',\n",
    "        'External health expenditure (% of current health expenditure)',\n",
    "        'Out-of-pocket expenditure (% of current health expenditure)'\n",
    "    ]\n",
    "\n",
    "    for indicator in tanzania_indicators:\n",
    "        tanzania_data = ses_model('Tanzania')\n",
    "        training_data_forecast, testing_data_forecast, training_data, testing_data, original_data = tanzania_data\n",
    "\n",
    "        # Plot the original data, training data, and forecast for the current indicator\n",
    "        plt.figure(figsize=(12, 6))\n",
    "        # plt.plot(original_data, label='Original Data')\n",
    "        plt.plot(training_data, label='Training Data')\n",
    "        plt.plot(testing_data, label='Testing Data')\n",
    "        plt.plot(training_data_forecast, label='Training Forecast', linestyle='--')\n",
    "        plt.plot(testing_data_forecast, label='Testing Forecast', linestyle='--')\n",
    "        plt.title(f'Tanzania - {indicator} Forecast')\n",
    "        plt.legend()\n",
    "        plt.show()\n",
    "\n",
    "# Call the function to plot Tanzania data for all indicators\n",
    "plot_tanzania_data_for_all_indicators()\n"
   ]
  }
 ],
 "metadata": {
  "language_info": {
   "name": "python"
  }
 },
 "nbformat": 4,
 "nbformat_minor": 2
}
